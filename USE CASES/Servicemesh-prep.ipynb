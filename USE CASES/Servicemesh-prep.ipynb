{
 "cells": [
  {
   "cell_type": "markdown",
   "metadata": {},
   "source": [
    "# Openshift ServiceMesh\n",
    "\n",
    "REFERENCE:https://docs.openshift.com/container-platform/4.15/service_mesh/v2x/preparing-ossm-installation.html"
   ]
  },
  {
   "cell_type": "markdown",
   "metadata": {},
   "source": [
    "1. Log in to the OpenShift Container Platform web console as a user with the cluster-admin role.\n",
    "2. In the OpenShift Container Platform web console, click Operators → OperatorHub.\n",
    "3. Type the name of the Operator into the filter box and select the Red Hat version of the Operator. Community versions of the Operators are not  supported.\n",
    "4. Click Install.\n",
    "5. On the Install Operator page for each Operator, accept the default settings.\n",
    "6. Click Install. Wait until the Operator installs before repeating the steps for the next Operator you want to install."
   ]
  },
  {
   "cell_type": "markdown",
   "metadata": {},
   "source": [
    "STEPS:"
   ]
  },
  {
   "cell_type": "markdown",
   "metadata": {},
   "source": [
    "1. Install ServiceMesh operator first next \n",
    "- kiali\n",
    "- tempo"
   ]
  },
  {
   "cell_type": "markdown",
   "metadata": {},
   "source": [
    "#### Configuring the Service Mesh Operator to run on infrastructure nodes \n",
    "\n",
    "REFERENCE: https://docs.redhat.com/en/documentation/openshift_container_platform/4.15/html-single/service_mesh/index#ossm-config-operator-infrastructure-node_installing-ossm"
   ]
  },
  {
   "cell_type": "markdown",
   "metadata": {},
   "source": [
    "1. The Service Mesh Operator must be installed\n",
    "2. One of the nodes comprising the deployment must be an infrastructure node. For more information, see \"Creating infrastructure machine sets"
   ]
  },
  {
   "cell_type": "markdown",
   "metadata": {},
   "source": [
    "Currently we dont have any subscription "
   ]
  },
  {
   "cell_type": "markdown",
   "metadata": {},
   "source": []
  },
  {
   "cell_type": "markdown",
   "metadata": {},
   "source": []
  }
 ],
 "metadata": {
  "language_info": {
   "name": "python"
  }
 },
 "nbformat": 4,
 "nbformat_minor": 2
}
