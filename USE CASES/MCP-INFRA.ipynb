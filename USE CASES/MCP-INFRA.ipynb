{
 "cells": [
  {
   "cell_type": "markdown",
   "metadata": {},
   "source": [
    "## Create MCP For Infra node"
   ]
  },
  {
   "cell_type": "markdown",
   "metadata": {},
   "source": [
    "1. vi mcp-infra.yaml"
   ]
  },
  {
   "cell_type": "code",
   "execution_count": null,
   "metadata": {},
   "outputs": [],
   "source": [
    "apiVersion: machineconfiguration.openshift.io/v1\n",
    "kind: MachineConfigPool\n",
    "metadata:\n",
    "  name: infra\n",
    "spec:\n",
    "  machineConfigSelector:\n",
    "    matchExpressions:\n",
    "      - {key: machineconfiguration.openshift.io/role, operator: In, values: [worker,infra]} \n",
    "  nodeSelector:\n",
    "    matchLabels:\n",
    "      node-role.kubernetes.io/infra: \"\" "
   ]
  },
  {
   "cell_type": "markdown",
   "metadata": {},
   "source": [
    "2. After you have the YAML file, you can create the machine config pool:"
   ]
  },
  {
   "cell_type": "code",
   "execution_count": null,
   "metadata": {},
   "outputs": [],
   "source": [
    "$ oc create -f mcp-infra.yaml"
   ]
  }
 ],
 "metadata": {
  "language_info": {
   "name": "python"
  }
 },
 "nbformat": 4,
 "nbformat_minor": 2
}
