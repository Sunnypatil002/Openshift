{
 "cells": [
  {
   "cell_type": "markdown",
   "metadata": {},
   "source": [
    "# QUESTIONS\n"
   ]
  },
  {
   "cell_type": "markdown",
   "metadata": {},
   "source": [
    "1. Configure an identity provider\n",
    "- Configure your OpenShift cluster to use an HTPasswd identity provider with the following\n",
    "- The name of the identity provider is: ex280-htpasswd\n",
    "- The name of the secret is: ex280-idp-secret\n",
    "- The user account armstrong is present and can log in with password indionce\n",
    "- The user account collins is present and can log in with password veraster\n",
    "- The user account aldrin is present and can log in with password roonkere The user\n",
    "- account jobs is present and can log in with password sestiver\n",
    "- The user account wozniak is present and can log in with password glegunge"
   ]
  },
  {
   "cell_type": "code",
   "execution_count": 2,
   "metadata": {},
   "outputs": [
    {
     "ename": "SyntaxError",
     "evalue": "invalid syntax (566725104.py, line 1)",
     "output_type": "error",
     "traceback": [
      "\u001b[1;36m  Cell \u001b[1;32mIn[2], line 1\u001b[1;36m\u001b[0m\n\u001b[1;33m    $ sudo yum install httpd-tools -y\u001b[0m\n\u001b[1;37m    ^\u001b[0m\n\u001b[1;31mSyntaxError\u001b[0m\u001b[1;31m:\u001b[0m invalid syntax\n"
     ]
    }
   ],
   "source": [
    "$ sudo yum install httpd-tools -y\n",
    "\n",
    "$ htpasswd -c -b -B <file-name> <user-name> <password>      // -c -- new-file creation \n",
    "\n",
    "# Now add  user accounts mentioned w.r.t their password.\n",
    "$ htpasswd -b -B openshift-passwd collins veraster \n",
    "$ htpasswd -b -B openshift-passwd aldrin roonkere \n",
    "$ htpasswd -b -B openshift-passwd jobs sestiver\n",
    "$ htpasswd -b -B openshift-passwd wozniak glegunge\n",
    "\n",
    "# Check whether the file has been created with menntioned user-accounts  \n",
    "$ ls -ltrh\n",
    "$ cat openshift-passwd\n",
    "\n",
    "# Create secret using the file openshift-passwd \n",
    "$ oc create secret generic ex280-secret -n openshift-config --from-file htpasswd=openshift-passwd\n",
    "\n",
    "# Check the create secret in specified namespace\n",
    "$ oc get secrets -n openshift-config\n",
    "\n",
    "# now add the secret in Cluster Oauth\n",
    "$ oc get oauth -o yaml > oauth.yaml\n",
    "###################################################\n",
    "\n",
    "apiVersion: v1\n",
    "items:\n",
    "- apiVersion: config.openshift.io/v1\n",
    "  kind: OAuth\n",
    "  metadata:\n",
    "    annotations:\n",
    "      include.release.openshift.io/ibm-cloud-managed: \"true\"\n",
    "      include.release.openshift.io/self-managed-high-availability: \"true\"\n",
    "      include.release.openshift.io/single-node-developer: \"true\"\n",
    "      release.openshift.io/create-only: \"true\"\n",
    "    creationTimestamp: \"2024-12-30T16:30:46Z\"\n",
    "    generation: 2\n",
    "    name: cluster\n",
    "    ownerReferences:\n",
    "    - apiVersion: config.openshift.io/v1\n",
    "      kind: ClusterVersion\n",
    "      name: version\n",
    "      uid: a6e67508-ef84-4654-965a-fd690c2671b3\n",
    "    resourceVersion: \"1251710\"\n",
    "    uid: abfb432c-4325-4f09-b0b4-851eb4e26f9d\n",
    "  spec:\n",
    "    identityProviders:\n",
    "    - htpasswd:\n",
    "        fileData:\n",
    "          name: ex280-secret  // add the created secret here and save the file.\n",
    "      mappingMethod: claim\n",
    "      name: htpasswd_provider\n",
    "      type: HTPasswd\n",
    "kind: List\n",
    "metadata:\n",
    "  resourceVersion: \"\"\n",
    "\n",
    "\n",
    "###################################################\n",
    "\n",
    "$ vi oauth.yaml\n",
    "\n",
    "$ oc apply -f oauth.yaml\n",
    "\n",
    "# Check if you can login using the mentioned users.\n",
    "\n",
    "\n"
   ]
  },
  {
   "cell_type": "markdown",
   "metadata": {},
   "source": [
    "Question-2:\n",
    "- Configure cluster permissions\n",
    "- Configure your OpenShift cluster to meet the following requirements:\n",
    "- The user account jobs can perform cluster administration tasks\n",
    "- The user account wozniak can create projects\n",
    "- The user account wozniak cannot perform cluster administration tasks The user account armstrong cannot create projects\n",
    "- The user account kubeadmin is not present"
   ]
  },
  {
   "cell_type": "code",
   "execution_count": null,
   "metadata": {},
   "outputs": [],
   "source": [
    "oc get clusterrole | grep cluster-admin\n",
    "\n",
    "$ oc adm policy add-role-to-user cluster-admin jobs\n",
    "\n",
    "$ oc adm policy add-role-to-user self-provsioner wozniak\n",
    "\n",
    "$ oc delete secret kubeadmin -n kube-system \n"
   ]
  },
  {
   "cell_type": "markdown",
   "metadata": {},
   "source": [
    "Question-3:\n",
    "- configure project permissions. Configure your OpenShift cluster to meet the\n",
    "- following requirements: The following projects exist:\n",
    "- apollo\n",
    "- manhattan\n",
    "- gemini\n",
    "- bluebook\n",
    "- titan\n",
    "- The user account armstrong is an administrator for project apollo and project gemini The user account wozniak can view project titan but not\n",
    "administer or delete it."
   ]
  },
  {
   "cell_type": "code",
   "execution_count": null,
   "metadata": {},
   "outputs": [],
   "source": [
    "# Create projects mentioned\n",
    "$ oc new-project apollo\n",
    "$ oc new-project manhattan\n",
    "$ oc new-project gemini\n",
    "$ oc new-project bluebook\n",
    "$ oc new-project titan\n",
    "\n",
    "#admin fro project apollo for use armstrong\n",
    "$ oc project apollo\n",
    "$ oc adm policy add-role-to-user admin armstrong -n apollo\n",
    "\n",
    "#USer wozniak can only view project titan but not admin or delete it\n",
    "$ oc adm policy add-role-to-user view wozniak -n titan\n"
   ]
  },
  {
   "cell_type": "markdown",
   "metadata": {},
   "source": [
    "Question-4:\n",
    "- Configure groups\n",
    "- Configure your OpenShift cluster to meet the following requirements:\n",
    "- The user account armstrong is a member of the commander group\n",
    "- The user account collins is a member of the pilot group\n",
    "- The user account aldrin is a member of the pilot group\n",
    "- Members of the commander group have edit permission in the apollo proj\n",
    "- Members of the pilot group have view permission in the apollo project\n"
   ]
  },
  {
   "cell_type": "code",
   "execution_count": null,
   "metadata": {},
   "outputs": [],
   "source": [
    "$ oc adm groups new commander\n",
    "$ oc adm groups new pilot\n",
    "$ oc adm groups add-users commander armstrong\n",
    "$ oc adm groups add-users pilot collins,aldrin\n",
    "\n",
    "$ oc adm policy add-role-to-group edit commander -n apollo\n",
    "$ oc adm policy add-role-to-group view pilot -n apollo\n",
    "\n"
   ]
  },
  {
   "cell_type": "markdown",
   "metadata": {},
   "source": [
    "Question-5:\n",
    "- Configure quotas\n",
    "- Configure your OpenShift cluster to use quotas in the manhattan project with the following require\n",
    "- The name of the quota is: ex280-quota\n",
    "- The amount of memory consumed across all containers may not exceed 161\n",
    "- The total amount of CPU consumed across all containers may not exceed 2 full cores\n",
    "- The maximum number of replication controllers does not exceed 3\n",
    "- The maximum number of pods does not exceed 3\n",
    "- The maximum number of services does not exceed 6\n"
   ]
  },
  {
   "cell_type": "code",
   "execution_count": null,
   "metadata": {},
   "outputs": [],
   "source": [
    "$ oc project manhattan\n",
    "$ oc create quota ex280-quota --hard=cpu=2,services=6,pods=3,replicationControllers=3,memory=161Mi --dry-run -o yaml > quota.yaml\n",
    "\n",
    "#############################################\n",
    "apiVersion: v1\n",
    "kind: ResourceQuota\n",
    "metadata:\n",
    "  creationTimestamp: null\n",
    "  name: ex280-quota\n",
    "spec:\n",
    "  hard:\n",
    "    limits.cpu: \"2\"                 #add limits\n",
    "    limits.memory: 161Mi            #add limits\n",
    "    pods: \"3\"\n",
    "    replicationControllers: \"3\"\n",
    "    services: \"6\"\n",
    "status: {}\n",
    "#############################################  \n",
    "\n",
    "$ oc create -f qouta.yaml \n"
   ]
  },
  {
   "cell_type": "markdown",
   "metadata": {},
   "source": [
    "Question-6:\n",
    "- Scale an application manually\n",
    "- Ensure that there are exactly 5 replicas of the minion application in the gru project."
   ]
  },
  {
   "cell_type": "code",
   "execution_count": null,
   "metadata": {},
   "outputs": [],
   "source": [
    "$ oc scale deploy <deploy-name> --replicas=6 -n <namespace> "
   ]
  },
  {
   "cell_type": "markdown",
   "metadata": {},
   "source": [
    "Question-7:\n",
    "- Scale an application automatically\n",
    "- Automatically scale the hydra deployment in the lerna project with the follow\n",
    "- Minimum number of pods: 2\n",
    "- Maximum number of pods: 9\n",
    "- Target average CPU utilization per pod: 60 percent\n",
    "- The pods require 25m CPU time to operate\n",
    "- The pods must not consume more than 180 CPU time\n"
   ]
  },
  {
   "cell_type": "code",
   "execution_count": null,
   "metadata": {},
   "outputs": [],
   "source": [
    "$ oc autoscale deploy hydra --min=2 --max=9 --cpu-percent=60\n",
    "$ oc set resource deployment hydra --requests 25m --limits 180m"
   ]
  },
  {
   "cell_type": "markdown",
   "metadata": {},
   "source": [
    "Question-8:\n",
    "- Configure a secure route\n",
    "- Configure the oxcart application in the area51 project with the following\n",
    "- requirements:\n",
    "- The application uses a secure route called oxcart\n",
    "- Traffic between the client and the router is encrypted\n",
    "- Traffic between the router and the service is unencrypted\n",
    "- The route uses a CA signed certificate with the following subject fields:\n",
    "- /C=US/ST=NV/L=Hiko/O=CIA/OU=USAF/CN=classified.apps.domain20.example.com\n",
    "- The application is reachable only at the following address:\n",
    "- https://classified.apps.domain28.example.com\n",
    "- The application produces output"
   ]
  },
  {
   "cell_type": "code",
   "execution_count": null,
   "metadata": {},
   "outputs": [],
   "source": [
    "$ openssl req x509 -sha256 -nodes -days 365 -newkey rsa:4096 -keyout private.key -out certificate.crt\n",
    "\n"
   ]
  },
  {
   "cell_type": "markdown",
   "metadata": {},
   "source": [
    "Question-9:\n",
    "- Configure application data\n",
    "- Deploy an application using the openshift/hello-openshift image that meets the following requirements;\n",
    "- The application is part of a project named: acid\n",
    "- The application is named: phosphoric\n",
    "- The application uses a key named RESPONSE in a configuration map named sedicen\n",
    "- The application is running and available at http://phosphoric\n",
    "- acid.apps.domain20.example.com and displ\n",
    "- Soda pop won't stop can't stop\n",
    "\n"
   ]
  },
  {
   "cell_type": "code",
   "execution_count": 3,
   "metadata": {},
   "outputs": [
    {
     "ename": "SyntaxError",
     "evalue": "invalid syntax (2981516855.py, line 1)",
     "output_type": "error",
     "traceback": [
      "\u001b[1;36m  Cell \u001b[1;32mIn[3], line 1\u001b[1;36m\u001b[0m\n\u001b[1;33m    $ oc new-app phosphoric -i openshift/hello-openshift -n acid\u001b[0m\n\u001b[1;37m    ^\u001b[0m\n\u001b[1;31mSyntaxError\u001b[0m\u001b[1;31m:\u001b[0m invalid syntax\n"
     ]
    }
   ],
   "source": [
    "$ oc new-app phosphoric -i openshift/hello-openshift -n acid \n",
    "$ oc expose svc phosphoric --hostname=http://phosphoric.acid.apps.domain20.example.com\n",
    "$ oc create configmap sedicen --from-literal REPSONSE=\"Soda pop won't stop can't stop\"\n",
    "$ oc set env deploy phosphoric --from=cm/sedicen\n"
   ]
  },
  {
   "cell_type": "markdown",
   "metadata": {},
   "source": [
    "Question-10:\n",
    "- Deploy an application\n",
    "- EX280 exam prepared for\n",
    "- Deploy the chart named redhat-movie in the project ascii-movie from the repository http://helm.domain20.example.com/chart//\n",
    "- You may use the telnet or ne commands to validate the deployment.\n"
   ]
  },
  {
   "cell_type": "code",
   "execution_count": 4,
   "metadata": {},
   "outputs": [
    {
     "ename": "SyntaxError",
     "evalue": "invalid syntax (2836486986.py, line 1)",
     "output_type": "error",
     "traceback": [
      "\u001b[1;36m  Cell \u001b[1;32mIn[4], line 1\u001b[1;36m\u001b[0m\n\u001b[1;33m    $ oc new-project ascii-movie\u001b[0m\n\u001b[1;37m    ^\u001b[0m\n\u001b[1;31mSyntaxError\u001b[0m\u001b[1;31m:\u001b[0m invalid syntax\n"
     ]
    }
   ],
   "source": [
    "$ oc new-project ascii-movie\n",
    "$ helm repo add exam http://helm.domain20.example.com/chart//\n",
    "$ helm search repo exam\n",
    "$ helm install redhat-movie exam/redhat-movie -n ascii-movie\n",
    "$ oc get all -n ascii-movie  \n",
    "$ oc get route \n",
    "$ telnet <route-url>"
   ]
  },
  {
   "cell_type": "markdown",
   "metadata": {},
   "source": [
    "Queston-11:\n",
    "- Configure a secret\n",
    "- Configure a secret in the math project with the following requirements:\n",
    "- The name of the secret is: magic\n",
    "- The secret defines a key with name: decoder_ring\n",
    "- 000 VRCKukQdrosbcl0c2ZYhDk- The secret defines the key with value:XpWy9KdcP3T\n"
   ]
  },
  {
   "cell_type": "code",
   "execution_count": 5,
   "metadata": {},
   "outputs": [
    {
     "ename": "SyntaxError",
     "evalue": "invalid syntax (764961077.py, line 1)",
     "output_type": "error",
     "traceback": [
      "\u001b[1;36m  Cell \u001b[1;32mIn[5], line 1\u001b[1;36m\u001b[0m\n\u001b[1;33m    $ oc new-project Math\u001b[0m\n\u001b[1;37m    ^\u001b[0m\n\u001b[1;31mSyntaxError\u001b[0m\u001b[1;31m:\u001b[0m invalid syntax\n"
     ]
    }
   ],
   "source": [
    "$ oc new-project Math\n",
    "$ oc create secret generic magic --from-literal decoder_ring=XpWy9KdcP3T\n",
    "$ oc get secrets\n"
   ]
  },
  {
   "cell_type": "markdown",
   "metadata": {},
   "source": [
    "Question-12:\n",
    "- Configure an application to use a secret\n",
    "- Configure the application called qed in the math project with the following\n",
    "- requirements:\n",
    "- The application uses the secret previously created called: magic The secret defines an environment variable with name: DECODER_RING\n",
    "- The application output no longer displays: Sorry, application is not configured correctly.\n"
   ]
  },
  {
   "cell_type": "code",
   "execution_count": 6,
   "metadata": {},
   "outputs": [
    {
     "ename": "SyntaxError",
     "evalue": "invalid syntax (3846395621.py, line 1)",
     "output_type": "error",
     "traceback": [
      "\u001b[1;36m  Cell \u001b[1;32mIn[6], line 1\u001b[1;36m\u001b[0m\n\u001b[1;33m    $ oc set env deploy qed --from=secret/magic\u001b[0m\n\u001b[1;37m    ^\u001b[0m\n\u001b[1;31mSyntaxError\u001b[0m\u001b[1;31m:\u001b[0m invalid syntax\n"
     ]
    }
   ],
   "source": [
    "$ oc set env deploy qed --from=secret/magic\n",
    "$ oc get deploy qed -o yaml\n",
    "# check env in spec section whether the secret was injected or not."
   ]
  },
  {
   "cell_type": "markdown",
   "metadata": {},
   "source": [
    "Queston-13:\n",
    "- Configure a service account\n",
    "- Configure a service account in the apples project to meet the following\n",
    "- requirements:\n",
    "- The name of the service account is ex280sa\n",
    "- The service account allows pods to be run as any available user\n"
   ]
  },
  {
   "cell_type": "code",
   "execution_count": null,
   "metadata": {},
   "outputs": [],
   "source": [
    "$ oc create sa ex280sa -n apples \n",
    "$ oc get scc \n",
    "$ oc adm policy add-scc-to-user anyuid -z ex280a\n",
    "$ oc auth can-i '*' '*'\n",
    "\n"
   ]
  },
  {
   "cell_type": "markdown",
   "metadata": {},
   "source": [
    "Question-14:\n",
    "- Deploy an application\n",
    "- Deploy the application called oranges in the apples project so that the following\n",
    "- condition\n",
    "- No configuration components have been added or removed\n",
    "- The application produces output\n",
    "- The application uses the ex280sa service account\n"
   ]
  },
  {
   "cell_type": "code",
   "execution_count": 7,
   "metadata": {},
   "outputs": [
    {
     "ename": "SyntaxError",
     "evalue": "invalid syntax (2986838067.py, line 1)",
     "output_type": "error",
     "traceback": [
      "\u001b[1;36m  Cell \u001b[1;32mIn[7], line 1\u001b[1;36m\u001b[0m\n\u001b[1;33m    $ oc set sa deploy/deploy-name ex280sa\u001b[0m\n\u001b[1;37m    ^\u001b[0m\n\u001b[1;31mSyntaxError\u001b[0m\u001b[1;31m:\u001b[0m invalid syntax\n"
     ]
    }
   ],
   "source": [
    "$ oc set sa deploy/deploy-name ex280sa\n",
    "$ curl route-name\n",
    "$ oc get endpoints\n",
    "$ oc get po --show-labels\n",
    "$ oc edit svc <service-name>\n",
    "# add correct label inside service\n",
    "$ oc get svc,endpoints\n",
    "\n"
   ]
  },
  {
   "cell_type": "markdown",
   "metadata": {},
   "source": [
    "Question-15:\n",
    "- Deploy an application\n",
    "- Deploy the application called atlas in the mercury project so that the following condition\n",
    "- No configuration components have been added or removed\n",
    "- The application produces output\n",
    "    "
   ]
  },
  {
   "cell_type": "code",
   "execution_count": null,
   "metadata": {},
   "outputs": [],
   "source": [
    "$ oc project mercury\n",
    "$ oc get deploy atlas\n",
    "$ oc edit deploy atlas\n",
    "#change requests: 80 Gi or remove the resources field\n"
   ]
  },
  {
   "cell_type": "markdown",
   "metadata": {},
   "source": [
    "Question-16:\n",
    "\n",
    "- Configure a network policy using the database and checker projects with the following requirements:\n",
    "- The database project has network policy with the name db-allow-sysql-conn based on pod selector label\n",
    "- network.openshift.io/policy-group\n",
    "- Connections to the database project are restricted to deployments from the\n",
    "- checker project The network policy is filtered by project selector using the team\n",
    "- devsecops label and pod selector using the deploymentb-sysql label\n",
    "- The application can establish a connection to port 3306/TCP\n",
    "- You can check your work by examining the logs in the checker project."
   ]
  },
  {
   "cell_type": "code",
   "execution_count": null,
   "metadata": {},
   "outputs": [],
   "source": [
    "    "
   ]
  }
 ],
 "metadata": {
  "kernelspec": {
   "display_name": "Python 3",
   "language": "python",
   "name": "python3"
  },
  "language_info": {
   "codemirror_mode": {
    "name": "ipython",
    "version": 3
   },
   "file_extension": ".py",
   "mimetype": "text/x-python",
   "name": "python",
   "nbconvert_exporter": "python",
   "pygments_lexer": "ipython3",
   "version": "3.11.3"
  }
 },
 "nbformat": 4,
 "nbformat_minor": 2
}
